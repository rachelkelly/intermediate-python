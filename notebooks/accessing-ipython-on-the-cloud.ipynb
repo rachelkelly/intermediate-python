{
 "metadata": {
  "name": ""
 },
 "nbformat": 3,
 "nbformat_minor": 0,
 "worksheets": [
  {
   "cells": [
    {
     "cell_type": "heading",
     "level": 6,
     "metadata": {},
     "source": [
      "PRE-RELEASE REVIEW: O'Reilly Intermediate Python Video Series\n",
      "Topic: Bytearrays and Bytestrings\n",
      "\n",
      "Source located in nbsource/bytearrays-and-bytestrings.ipynb. Automatically rendered from UNKNOWN on 2014-03-25 at 09:35.\n",
      "AUTOMATICALLY GENERATED TEST NOTEBOOK - CHANGES WILL BE LOST\n",
      "To TEST this Notebook\n",
      "1. select Cell | Run All, or step through with Shift/Enter\n",
      "2. Notebook turns pink when testing starts\n",
      "3. It turns white when the it runs to completion.\n",
      "4. Please check the executed notebook for clarity and correctness.\n",
      "Please raise an issue about anything you don't understand - by all means attach a saved copy of the notebook to add explanations or questions. Also please let us know about stuff you want to see covered under any heading in the outline.\n",
      "Your comments on the content are also welcome, particularly when reported as issues https://github.com/holdenweb/intermediate-python/issues?state=open \n"
     ]
    },
    {
     "cell_type": "heading",
     "level": 1,
     "metadata": {},
     "source": [
      " ||| WORKING COPY ||| Bytearrays and Bytestrings\u00b6"
     ]
    },
    {
     "cell_type": "heading",
     "level": 2,
     "metadata": {},
     "source": [
      "Running IPython Notebooks in the Cloud"
     ]
    },
    {
     "cell_type": "markdown",
     "metadata": {},
     "source": [
      "First you need to have a Google account (which is also your Notebook Cloud Server account - it's an Appspot app) and an Amazon AWS account. None of this costs anything; this is a really easy way to access Python.\n",
      "\n",
      "Signing Up for Notebook Cloud Services\n",
      "All the computing you need to evaluate these notebooks (and a whole bunch more!) can be accomplished with virtuals that qualify for Amazon's free-tier pricing. Free-tier remains free for the first twelve months, and it's unlikely anything you do will exceed the very generous limits. To sign up for an AWS account:"
     ]
    },
    {
     "cell_type": "markdown",
     "metadata": {},
     "source": [
      "\n",
      "Visit the Amazon AWS home page http://aws.amazon.com/\n",
      "    \n",
      "Click the \u201cSign Up\u201d link\n",
      "\n",
      "Enter an email address, select \u201cI am a new user\u201d and click \u201cSign in ..\u201d"
     ]
    },
    {
     "cell_type": "markdown",
     "metadata": {},
     "source": [
      "Once you have opened your account (there's the usual \"please confirm\" email with a link) you need to sign up with Notebook Cloud, a Google AppSpot application that uses AWS services on your behalf to create virtual machines running the IPython Notebook server on demand."
     ]
    },
    {
     "cell_type": "markdown",
     "metadata": {},
     "source": [
      "Visit the notebook cloud home page http://notebookcloud.appspot.com/\n",
      "\n",
      "Take a quick look at the simple documentation\n",
      "\n",
      "Click \"Log in with Google Account\"\n",
      "\n",
      "Once logged in, click the \"Account Details\" button, enter your AWS credentials (instructions how to get them are shown) and click \"Save\"\n"
     ]
    },
    {
     "cell_type": "markdown",
     "metadata": {},
     "source": [
      "NOTE: you can password-protect all your notebooks by entering a password on this form. There is no mechanism to rerieve this password - you have been warned!"
     ]
    },
    {
     "cell_type": "heading",
     "level": 3,
     "metadata": {},
     "source": [
      "Using the Notebook Cloud Service"
     ]
    },
    {
     "cell_type": "markdown",
     "metadata": {},
     "source": [
      "You are now looking at the IPython Notebook Cloud server control window. For this purpose you only need to start the very smallest instance.\n",
      "\n",
      "Click the \"Micro\" button to create a new Notebook Server\n",
      "\n",
      "It will take a minute or two to create a new virtual machine. The Cloud server monitors the status of the virtual machine. Wait until it says \"Serving\" on the status line under the machine description, you are looking for something like:"
     ]
    },
    {
     "cell_type": "markdown",
     "metadata": {},
     "source": [
      "Instance id: i-706d2551 Type: t1.micro Started: 01:04:36 ~ 2014-03-11\n",
      "\n",
      "State: Serving"
     ]
    },
    {
     "cell_type": "markdown",
     "metadata": {},
     "source": [
      "Click on the word \"serving\" and a new window will open up with a notebook server showing an empty list of files. You can then drag Notebook (.ipynb) files into the (initially empty) files list, and an upload button appears. After uploading a notebook you can start it. Each notebook appears in its own browser window or tab.\n",
      "\n",
      "After updating a notebook you can download a copy with the Notebook Server's \"File | Download As ...\" menu item. This allows you to download either a Python file (in which all the markdown text appears as comments) or a Notebook file that you can upload to another server if you want.\n",
      "\n",
      "Your notebooks persist on the server between sessions. You can choose, though it's not necessary, to shut them down before closing or shutting down the Notebook Server. When you are done, you might want to shut your Notebook Server down. There's no point leaving the clock ticking when it's not being used, but at the same time it costs hardly anything. I just don't like waste, you could be computing with those cycles. :)\n",
      "\n",
      "In the Cloud Server window click the \"Stop\" button next to your chosen virtual. It takes a while (maybe up to a minute: what do you care, it's free, right?) to shut down a running virtual. The next time you visit your Notebook Cloud account (or even immediately!) you can restart it by clicking on its \"Start\" button.\n",
      "\n",
      "The \"Terminate\" button removes the VM instance completely, destroying its file store (so better make sure that you have downloaded copies of all Notebooks you may want to keep before you terminate an instance)."
     ]
    },
    {
     "cell_type": "heading",
     "level": 3,
     "metadata": {},
     "source": [
      "Reviewing the Course Content"
     ]
    },
    {
     "cell_type": "markdown",
     "metadata": {},
     "source": [
      "Download the project (presumably you will simply clone the repository). Upload them to your Notebook Cloud server and start them.\n",
      "\n",
      "You can step through the notebook cell by cell using the SHIFT/Enter conbination. Alternatively you can select \"Cell | Run All\" from the notebook server menu and then scroll through the completed notebook to understand the results.\n",
      "\n",
      "Take a look at unstarted.txt and let me know what you would like to see under any and all topics. To ensure suggestions do not simply get lost I would appreciate reviewers raising issues. A link to the tracker is included in all notebooks."
     ]
    }
   ],
   "metadata": {}
  }
 ]
}
